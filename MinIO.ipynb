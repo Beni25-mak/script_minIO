{
 "cells": [
  {
   "cell_type": "markdown",
   "id": "02a02b0f-c184-4163-9d71-a17014fabead",
   "metadata": {},
   "source": [
    "## Installation du package (ou module) boto3"
   ]
  },
  {
   "cell_type": "code",
   "execution_count": 4,
   "id": "ee7dbf4e-cfb1-4cf3-985b-04ab1880c605",
   "metadata": {},
   "outputs": [
    {
     "name": "stdout",
     "output_type": "stream",
     "text": [
      "Requirement already satisfied: boto3 in c:\\users\\user\\anaconda3\\lib\\site-packages (1.39.0)\n",
      "Requirement already satisfied: botocore<1.40.0,>=1.39.0 in c:\\users\\user\\anaconda3\\lib\\site-packages (from boto3) (1.39.0)\n",
      "Requirement already satisfied: jmespath<2.0.0,>=0.7.1 in c:\\users\\user\\anaconda3\\lib\\site-packages (from boto3) (1.0.1)\n",
      "Requirement already satisfied: s3transfer<0.14.0,>=0.13.0 in c:\\users\\user\\anaconda3\\lib\\site-packages (from boto3) (0.13.0)\n",
      "Requirement already satisfied: python-dateutil<3.0.0,>=2.1 in c:\\users\\user\\anaconda3\\lib\\site-packages (from botocore<1.40.0,>=1.39.0->boto3) (2.9.0.post0)\n",
      "Requirement already satisfied: urllib3!=2.2.0,<3,>=1.25.4 in c:\\users\\user\\anaconda3\\lib\\site-packages (from botocore<1.40.0,>=1.39.0->boto3) (2.2.3)\n",
      "Requirement already satisfied: six>=1.5 in c:\\users\\user\\anaconda3\\lib\\site-packages (from python-dateutil<3.0.0,>=2.1->botocore<1.40.0,>=1.39.0->boto3) (1.16.0)\n",
      "Note: you may need to restart the kernel to use updated packages.\n"
     ]
    }
   ],
   "source": [
    "pip install boto3"
   ]
  },
  {
   "cell_type": "code",
   "execution_count": 25,
   "id": "453ed5d7-6e53-454f-9777-06adbe8ce416",
   "metadata": {},
   "outputs": [],
   "source": [
    "import boto3"
   ]
  },
  {
   "cell_type": "markdown",
   "id": "4c751924-5561-4fa2-9756-eefeaf66e657",
   "metadata": {},
   "source": [
    "## Configuration de MinIO"
   ]
  },
  {
   "cell_type": "code",
   "execution_count": 39,
   "id": "17d41055-1bac-4bd6-ac70-3243b5c9ba84",
   "metadata": {},
   "outputs": [],
   "source": [
    "# configuration MinIO\n",
    "MINIO_url = \"http://localhost:19000\"\n",
    "ACCESS_KEY = \"minioadmin\"\n",
    "SECRET_KEY = \"minioadmin\""
   ]
  },
  {
   "cell_type": "markdown",
   "id": "094ef7b6-0089-49b8-9a0f-97ade2b387d8",
   "metadata": {},
   "source": [
    "## connexion à minIO et liste des buckets"
   ]
  },
  {
   "cell_type": "code",
   "execution_count": 53,
   "id": "dd858015-2adb-425f-8f8b-d81418065c91",
   "metadata": {},
   "outputs": [
    {
     "name": "stdout",
     "output_type": "stream",
     "text": [
      "Liste des buckets dans MinIO :\n",
      " - devoirbeni\n"
     ]
    }
   ],
   "source": [
    "# Connexion à MinIO\n",
    "s3_client = boto3.client(\n",
    "    \"s3\",\n",
    "    endpoint_url=MINIO_url,\n",
    "    aws_access_key_id=ACCESS_KEY,\n",
    "    aws_secret_access_key=SECRET_KEY\n",
    ")\n",
    "\n",
    "# Lister les buckets\n",
    "try:\n",
    "    buckets = s3_client.list_buckets()\n",
    "    print(\"Liste des buckets dans MinIO :\")\n",
    "    for bucket in buckets['Buckets']:\n",
    "        print(f\" - {bucket['Name']}\")\n",
    "except Exception as e:\n",
    "    print(f\"Erreur lors de la récupération des buckets : {e}\")"
   ]
  },
  {
   "cell_type": "markdown",
   "id": "719a1172-4ddf-4ddc-8045-4523d9585216",
   "metadata": {},
   "source": [
    "## Création d'un bucket"
   ]
  },
  {
   "cell_type": "code",
   "execution_count": 55,
   "id": "357abb69-9a32-4ef4-8db2-020e4a4757ef",
   "metadata": {},
   "outputs": [
    {
     "name": "stdout",
     "output_type": "stream",
     "text": [
      "Bucket 'devoirbeni2' crée avec succès !\n"
     ]
    }
   ],
   "source": [
    "# création d'un bucket\n",
    "bucket_name = \"devoirbeni2\"\n",
    "s3_client.create_bucket(Bucket=bucket_name)\n",
    "print(f\"Bucket '{bucket_name}' crée avec succès !\")"
   ]
  },
  {
   "cell_type": "markdown",
   "id": "9f6e2d97-653c-458e-915a-bd668004b694",
   "metadata": {},
   "source": [
    "## Ajout d'un fichier à MinIO"
   ]
  },
  {
   "cell_type": "code",
   "execution_count": 57,
   "id": "6b3cd057-51c9-4f3f-af09-c8e8de68d8b4",
   "metadata": {},
   "outputs": [
    {
     "name": "stdout",
     "output_type": "stream",
     "text": [
      "fichier 'my_devoir.txt' ajouté dans 'devoirbeni2' !\n"
     ]
    }
   ],
   "source": [
    "file_name = \"my_devoir.txt\"\n",
    "with open(file_name, \"w\") as  f:\n",
    "    f.write(\"Mon Deuxième Devoir avec MINIO connexion à partir de Python!\")\n",
    "s3_client.upload_file(file_name, bucket_name, \"my_devoir.txt\")\n",
    "print(f\"fichier '{file_name}' ajouté dans '{bucket_name}' !\")"
   ]
  },
  {
   "cell_type": "markdown",
   "id": "7f94c4b6-15aa-4b5b-9e72-e9e3b57a62f9",
   "metadata": {},
   "source": []
  },
  {
   "cell_type": "code",
   "execution_count": 61,
   "id": "0874e4d1-9e44-408c-b500-fecde3cf0279",
   "metadata": {},
   "outputs": [
    {
     "name": "stdout",
     "output_type": "stream",
     "text": [
      "Fichier dans devoirbeni2 : \n",
      "- my_devoir.txt\n"
     ]
    }
   ],
   "source": [
    "objects = s3_client.list_objects_v2(Bucket=bucket_name)\n",
    "print(f\"Fichier dans {bucket_name} : \")\n",
    "if \"Contents\" in objects:\n",
    "    for obj in objects[\"Contents\"]:\n",
    "        print(f\"- {obj['Key']}\")\n",
    "else:\n",
    "    print(\"Le bucket est vide. \")"
   ]
  },
  {
   "cell_type": "code",
   "execution_count": 63,
   "id": "9666cb18-494e-49db-8b1f-00a8a0ae0a04",
   "metadata": {},
   "outputs": [],
   "source": [
    "s3_user1 = boto3.client(\n",
    "    \"s3\",\n",
    "    endpoint_url=\"http://localhost:19000\",\n",
    "    aws_access_key_id=\"Ty448jsA9nqfIiDj4DKs\",\n",
    "    aws_secret_access_key=\"8AlWfmITm8OVE2PtQLGRJPlfr86UCCUUTi1dgUIb\"\n",
    ")"
   ]
  }
 ],
 "metadata": {
  "kernelspec": {
   "display_name": "Python 3 (ipykernel)",
   "language": "python",
   "name": "python3"
  },
  "language_info": {
   "codemirror_mode": {
    "name": "ipython",
    "version": 3
   },
   "file_extension": ".py",
   "mimetype": "text/x-python",
   "name": "python",
   "nbconvert_exporter": "python",
   "pygments_lexer": "ipython3",
   "version": "3.12.3"
  }
 },
 "nbformat": 4,
 "nbformat_minor": 5
}
